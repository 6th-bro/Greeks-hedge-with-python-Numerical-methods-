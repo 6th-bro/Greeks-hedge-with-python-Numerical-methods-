{
 "cells": [
  {
   "cell_type": "markdown",
   "metadata": {},
   "source": [
    "## Greeks Hedge"
   ]
  },
  {
   "cell_type": "markdown",
   "metadata": {},
   "source": [
    "We will use Detla, Gamma and Vega hedge for mainatain option premium in sell side."
   ]
  },
  {
   "cell_type": "code",
   "execution_count": 1,
   "metadata": {},
   "outputs": [],
   "source": [
    "import pandas as pd\n",
    "import numpy as np\n",
    "import scipy.stats as stat\n",
    "import matplotlib.pyplot as plt"
   ]
  },
  {
   "cell_type": "code",
   "execution_count": 2,
   "metadata": {},
   "outputs": [],
   "source": [
    "r= 0.005\n",
    "tau = 27/365\n",
    "tol = 1/100\n",
    "N = 100\n",
    "share = 100000\n",
    "df = pd.read_excel('call.xlsx')"
   ]
  },
  {
   "cell_type": "markdown",
   "metadata": {},
   "source": [
    "'call.xlsx' is Call option & Kospi200 prices. We brought it from KRX data service.\n",
    "price data : 2021.04.15~2021.05.13"
   ]
  },
  {
   "cell_type": "markdown",
   "metadata": {},
   "source": [
    "## We have 3 steps for maintain option premium with the degree of Greeks hedge.\n",
    "\n",
    "#### 1. Decide the Call option to sell and its quantity\n",
    "#### 2. Find Greeks of Call option with BSM\n",
    "#### 3. Hedge using Greeks and find pay-off"
   ]
  },
  {
   "cell_type": "code",
   "execution_count": 3,
   "metadata": {},
   "outputs": [],
   "source": [
    "def C435():\n",
    "    list=[]\n",
    "    for i in range(1,21):\n",
    "        list.append(df.iloc[0,i])\n",
    "    return(list)\n",
    "def C440():\n",
    "    list=[]\n",
    "    for i in range(1,21):\n",
    "        list.append(df.iloc[1,i])\n",
    "    return(list)\n",
    "def C445():\n",
    "    list=[]\n",
    "    for i in range(1,21):\n",
    "        list.append(df.iloc[2,i])\n",
    "    return(list)\n",
    "def Kospi():\n",
    "    list=[]\n",
    "    for i in range(1,21):\n",
    "        list.append(df.iloc[3,i])\n",
    "    return(list)  "
   ]
  },
  {
   "cell_type": "markdown",
   "metadata": {},
   "source": [
    "I made some functions for data sets"
   ]
  },
  {
   "cell_type": "code",
   "execution_count": 4,
   "metadata": {},
   "outputs": [],
   "source": [
    "def Call_sigma(S, K, tau, r, sigma, C):\n",
    "    d1 = (np.log(S/K)+(r + 0.5*sigma**2)*tau)/(sigma*np.sqrt(tau))\n",
    "    d2 = (np.log(S/K)+ (r - 0.5*sigma**2)*tau)/(sigma*np.sqrt(tau))\n",
    "    return S*stat.norm.cdf(d1) - K*np.exp(-r*tau)*stat.norm.cdf(d2) -C\n",
    "def Vega (S, K, tau, r, sigma):\n",
    "    d1 = (np.log(S/K)+(r + 0.5*sigma**2)*tau)/(sigma*np.sqrt(tau))\n",
    "    return S*np.sqrt(tau)*stat.norm.pdf(d1)\n",
    "def Call_gamma(S,K,tau,r,sigma):\n",
    "    if tau>0:\n",
    "        d1 = (np.log(S/K)+(r + 0.5*sigma**2)*(tau))/(sigma*np.sqrt(tau))\n",
    "        return stat.norm.pdf(d1)/(S*sigma*np.sqrt(tau))\n",
    "    elif tau<=0:\n",
    "        return 0\n",
    "    else    :\n",
    "        print('input time before T')\n",
    "def Call_delta(S,K,tau,r,sigma):\n",
    "    if tau>0:\n",
    "        d1 = (np.log(S/K)+(r + 0.5*sigma**2)*(tau))/(sigma*np.sqrt(tau))\n",
    "        return stat.norm.cdf(d1)\n",
    "    elif tau<0:\n",
    "        if S > K:\n",
    "            return 1\n",
    "        elif S==K:\n",
    "            return 0.5\n",
    "        elif S < K:\n",
    "            return 0\n",
    "        else:\n",
    "            print('worng S or E')\n",
    "    else:\n",
    "        print('input time before T')"
   ]
  },
  {
   "cell_type": "markdown",
   "metadata": {},
   "source": [
    "## Newtion Method for 43 strike price% market price"
   ]
  },
  {
   "cell_type": "code",
   "execution_count": 5,
   "metadata": {},
   "outputs": [],
   "source": [
    "def newton_method(tol,N,Call_data,strike_price,asset_price):\n",
    "    L = len(Call_data)\n",
    "    K = np.zeros(shape = L)\n",
    "    for i in range(0,L):\n",
    "        K[i] = strike_price \n",
    "    volatility = np.zeros(shape = L)\n",
    "    for j in range(0, L):\n",
    "        volatility0 = 0.5\n",
    "        i = 1\n",
    "        while i < N:\n",
    "            volatility[j] = volatility0 - Call_sigma(asset_price[j], K[j], tau, r, volatility0, Call_data[j])/Vega(asset_price[j], K[j], tau, r, volatility0)\n",
    "            if abs(volatility[j] - volatility0) < tol:\n",
    "                print (volatility[j])\n",
    "                break\n",
    "            else:\n",
    "                i = i+1\n",
    "                volatility0 = volatility[j]\n",
    "                if i == N:\n",
    "                    print('The method failed after N iterations, N=',N)\n",
    "    return volatility"
   ]
  },
  {
   "cell_type": "code",
   "execution_count": 6,
   "metadata": {},
   "outputs": [
    {
     "name": "stdout",
     "output_type": "stream",
     "text": [
      "0.1467247864452535\n",
      "0.14360508728091487\n",
      "0.14488806806105567\n",
      "0.13290961305970753\n",
      "0.1424845335286656\n",
      "0.13694413003457337\n",
      "0.12576319461689986\n",
      "0.11779214617436502\n",
      "0.12006914773987638\n",
      "0.12118120883487218\n",
      "0.11961163258717997\n",
      "0.11262237488154224\n",
      "0.09819850366797547\n",
      "0.08119486632123578\n",
      "0.06703433574400341\n",
      "0.06496934474734181\n",
      "0.059863085685157656\n",
      "0.05323531680456964\n",
      "0.05743513437365087\n",
      "0.06472791044502534\n",
      "option premiums from short C435 587000.0\n",
      "greeks 0.4578142631086882\n",
      "0.022976675772831127\n",
      "46.682604017066915\n",
      "0.3474065609192169\n",
      "0.021394402966043394\n",
      "43.46783893892683\n",
      "0.24968366663208852\n",
      "0.018392649073893604\n",
      "37.36905904189686\n",
      "inv [[-3.06311475e+02  1.63934426e-01]\n",
      " [ 3.56311475e+02 -1.63934426e-01]]\n",
      "need to long Calls with strike price = 440,445 [[61486.64484479]\n",
      " [53396.73401937]]\n",
      "[[-0.]\n",
      " [-0.]]\n",
      "[[-10912.]\n",
      " [    -0.]\n",
      " [    -0.]]\n",
      "[[ 0.]\n",
      " [-0.]\n",
      " [-0.]]\n"
     ]
    }
   ],
   "source": [
    "V = newton_method(tol,N,C435(),435,Kospi())\n",
    "cash = C435()[0]*share\n",
    "print('option premiums from short C435',cash)\n",
    "print(\"greeks\",Call_delta(Kospi()[0],435,tau,r,V[0]))\n",
    "print(Call_gamma(Kospi()[0],435,tau,r,V[0]))\n",
    "print(Vega(Kospi()[0],435,tau,r,V[0]))\n",
    "print(Call_delta(Kospi()[0],440,tau,r,V[0]))\n",
    "print(Call_gamma(Kospi()[0],440,tau,r,V[0]))\n",
    "print(Vega(Kospi()[0],440,tau,r,V[0]))\n",
    "print(Call_delta(Kospi()[0],445,tau,r,V[0]))\n",
    "print(Call_gamma(Kospi()[0],445,tau,r,V[0]))\n",
    "print(Vega(Kospi()[0],445,tau,r,V[0]))\n",
    "greeks = np.array([[Call_gamma(Kospi()[0],440,tau,r,V[0]),Call_gamma(Kospi()[0],445,tau,r,V[0])],\n",
    "                    [Vega(Kospi()[0],440,tau,r,V[0]),Vega(Kospi()[0],445,tau,r,V[0])]])\n",
    "portfolio_greeks=[[share*Call_gamma(Kospi()[0],435,tau,r,V[0])],[share*Vega(Kospi()[0],435,tau,r,V[0])]]\n",
    "inv = np.linalg.inv(np.round(greeks,2))\n",
    "print(\"inv\",inv)\n",
    "w = np.dot(inv,portfolio_greeks)\n",
    "print('need to long Calls with strike price = 440,445',w)\n",
    "print(np.round(np.dot(np.round(greeks, 2), w) - portfolio_greeks))\n",
    "portfolio_greeks = [[Call_delta(Kospi()[0],435,tau,r,V[0])*-share],\n",
    "                     [Call_gamma(Kospi()[0],435,tau,r,V[0])*-share],\n",
    "                     [Vega(Kospi()[0],435,tau,r,V[0])*-share]]\n",
    "greeks = np.array([[Call_delta(Kospi()[0],440,tau,r,V[0]),Call_delta(Kospi()[0],445,tau,r,V[0])], \n",
    "                   [Call_gamma(Kospi()[0],440,tau,r,V[0]), Call_gamma(Kospi()[0],445,tau,r,V[0])], \n",
    "                   [Vega(Kospi()[0],440,tau,r,V[0]), Vega(Kospi()[0],445,tau,r,V[0])]])\n",
    "print(np.round(np.dot(np.round(greeks, 2), w) + portfolio_greeks))\n",
    "long_Kospi= [[10912],[0],[0]]\n",
    "print(np.round(np.dot(np.round(greeks, 2), w) + portfolio_greeks + long_Kospi))\n",
    "cash=cash- np.round(w[0])*C440()[0] - 53397*C445()[0] - Kospi()[0]*10912"
   ]
  },
  {
   "cell_type": "markdown",
   "metadata": {},
   "source": [
    "### We asume 5 scenarios.\n",
    "\n",
    "#### 1. Use for Delta hedge\n",
    "#### 2. Use for Delta and Gamma hedge\n",
    "#### 3. Use for Delta, Gamma and Vega hedge\n",
    "#### 4, Deposit in Bank\n",
    "#### 5. Invest in Stocks"
   ]
  },
  {
   "cell_type": "code",
   "execution_count": 7,
   "metadata": {},
   "outputs": [
    {
     "name": "stdout",
     "output_type": "stream",
     "text": [
      "profit from Kospi data [193344.8606792]\n",
      "porfit of portfolio If Kospi = 442.5 [-452631.66031089]\n",
      "porfit of portfolio If Kospi = 447.5 [-436919.16031089]\n",
      "porfit of portfolio If Kospi = 452.5 [92538.33968911]\n"
     ]
    }
   ],
   "source": [
    "#scenario 1\n",
    "profit_portfolio1 = cash*np.exp(-r*tau) + Kospi()[0]*10912\n",
    "#scenario 2\n",
    "Asset_price = 442.5\n",
    "profit_portfolio2 = cash*np.exp(r*tau) + Asset_price*10912 - (Asset_price-435)*share\n",
    "#scenario 3\n",
    "Asset_price = 447.5\n",
    "profit_portfolio3 = (cash*np.exp(r*tau) + Asset_price*10912 - \n",
    "                     (Asset_price-435)*share + (Asset_price-440)*np.round(w[0]))\n",
    "#scenario 4\n",
    "Asset_price = 452.5\n",
    "profit_portfolio4 = (cash*np.exp(r*tau) + Asset_price*10912 - \n",
    "                     (Asset_price-435)*share + \n",
    "                     (Asset_price-440)*np.round(w[0]) + (Asset_price-440)*np.round(w[1]))\n",
    "print(\"profit from Kospi data\",profit_portfolio1)\n",
    "print(\"porfit of portfolio If Kospi = 442.5\",profit_portfolio2)\n",
    "print(\"porfit of portfolio If Kospi = 447.5\",profit_portfolio3)\n",
    "print(\"porfit of portfolio If Kospi = 452.5\",profit_portfolio4)"
   ]
  },
  {
   "cell_type": "code",
   "execution_count": null,
   "metadata": {},
   "outputs": [],
   "source": []
  }
 ],
 "metadata": {
  "kernelspec": {
   "display_name": "Python 3",
   "language": "python",
   "name": "python3"
  },
  "language_info": {
   "codemirror_mode": {
    "name": "ipython",
    "version": 3
   },
   "file_extension": ".py",
   "mimetype": "text/x-python",
   "name": "python",
   "nbconvert_exporter": "python",
   "pygments_lexer": "ipython3",
   "version": "3.7.7"
  }
 },
 "nbformat": 4,
 "nbformat_minor": 4
}
